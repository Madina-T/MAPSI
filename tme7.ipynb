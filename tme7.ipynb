{
 "cells": [
  {
   "cell_type": "code",
   "execution_count": 33,
   "metadata": {},
   "outputs": [],
   "source": [
    "import numpy as np\n",
    "import pickle as pkl\n",
    "import matplotlib.pyplot as plt\n",
    "\n",
    "# old version = python 2\n",
    "# data = pkl.load(file(\"ressources/lettres.pkl\",\"rb\"))\n",
    "# new :\n",
    "with open('../ressources/TME6_lettres.pkl', 'rb') as f:\n",
    "    data = pkl.load(f, encoding='latin1')\n",
    "X = np.array(data.get('letters')) # récupération des données sur les lettres\n",
    "Y = np.array(data.get('labels')) # récupération des étiquettes associées \n",
    "\n",
    "nCl = 26"
   ]
  },
  {
   "cell_type": "code",
   "execution_count": 49,
   "metadata": {
    "collapsed": true
   },
   "outputs": [],
   "source": [
    "def initGD(X,N):\n",
    "    S = []\n",
    "    for x in X:\n",
    "        S.append(np.floor(np.linspace(0,N-.00000001,len(x))))\n",
    "    return np.array(S)"
   ]
  },
  {
   "cell_type": "code",
   "execution_count": 50,
   "metadata": {
    "collapsed": true
   },
   "outputs": [],
   "source": [
    "def discretise(X,d):\n",
    "    intervalle = 360/d\n",
    "    Xd = []\n",
    "    for x in X:\n",
    "        Xd.append(np.floor(x/intervalle))\n",
    "    return np.array(Xd)"
   ]
  },
  {
   "cell_type": "code",
   "execution_count": 51,
   "metadata": {},
   "outputs": [
    {
     "name": "stdout",
     "output_type": "stream",
     "text": [
      "X0 = [1. 9. 8. 8. 8. 8. 8. 9. 3. 4. 5. 6. 6. 6. 7. 7. 8. 9. 0. 0. 0. 1. 1.]\n",
      "S0 = [0. 0. 0. 0. 0. 0. 1. 1. 1. 1. 1. 1. 2. 2. 2. 2. 2. 3. 3. 3. 3. 3. 3.]\n"
     ]
    }
   ],
   "source": [
    "Xd = discretise(X,10)\n",
    "print(\"X0 =\",Xd[0])\n",
    "print(\"S0 =\",initGD(Xd,4)[0])"
   ]
  },
  {
   "cell_type": "code",
   "execution_count": 127,
   "metadata": {},
   "outputs": [],
   "source": [
    "def learnHMM(allx, alls, N, K, initTo0=False):\n",
    "    if initTo0:\n",
    "        A = np.zeros((N,N))\n",
    "        B = np.zeros((N,K))\n",
    "        Pi = np.zeros(N)\n",
    "    else:\n",
    "        eps = 1e-8\n",
    "        A = np.ones((N,N))*eps\n",
    "        B = np.ones((N,K))*eps\n",
    "        Pi = np.ones(N)*eps\n",
    "    for s in alls:\n",
    "        Pi[int(s[0])] += 1\n",
    "        for i in range(len(s)-1):\n",
    "            A[int(s[i])][int(s[i+1])] += 1 \n",
    "    for k in range(len(alls)):\n",
    "        s = alls[k]\n",
    "        x = allx[k]\n",
    "        for i in range(len(s)-1):\n",
    "            B[int(s[i])][int(x[i])] += 1\n",
    "    A = A/np.maximum(A.sum(1).reshape(N,1),1) # normalisation\n",
    "    B = B/np.maximum(B.sum(1).reshape(N,1),1) # normalisation\n",
    "    Pi = Pi/Pi.sum()\n",
    "    return Pi,A,B"
   ]
  },
  {
   "cell_type": "code",
   "execution_count": 128,
   "metadata": {},
   "outputs": [
    {
     "name": "stdout",
     "output_type": "stream",
     "text": [
      "Pi = [1. 0. 0. 0. 0.]\n",
      "A =\n",
      " [[0.79 0.21 0.   0.   0.  ]\n",
      " [0.   0.76 0.24 0.   0.  ]\n",
      " [0.   0.   0.77 0.23 0.  ]\n",
      " [0.   0.   0.   0.76 0.24]\n",
      " [0.   0.   0.   0.   1.  ]]\n",
      "B =\n",
      " [[0.06 0.02 0.   0.   0.   0.   0.   0.04 0.49 0.4 ]\n",
      " [0.   0.04 0.   0.13 0.09 0.13 0.02 0.09 0.41 0.09]\n",
      " [0.   0.   0.   0.02 0.12 0.5  0.31 0.04 0.   0.  ]\n",
      " [0.07 0.   0.   0.   0.   0.   0.26 0.33 0.2  0.15]\n",
      " [0.71 0.1  0.   0.   0.   0.   0.   0.02 0.02 0.15]]\n"
     ]
    }
   ],
   "source": [
    "K = 10 # discrétisation (=10 observations possibles)\n",
    "N = 5  # 5 états possibles (de 0 à 4 en python)\n",
    "# Xd = angles observés discrétisés\n",
    "Xd = discretise(X,K)\n",
    "S = initGD(Xd,N)\n",
    "Pi, A, B = learnHMM(Xd[Y=='a'],S[Y=='a'],N,K,True)\n",
    "print(\"Pi =\",Pi)\n",
    "print(\"A =\\n\",A)\n",
    "print(\"B =\\n\",B)"
   ]
  },
  {
   "cell_type": "code",
   "execution_count": null,
   "metadata": {
    "collapsed": true
   },
   "outputs": [],
   "source": [
    "def viterbi(x,Pi,A,B):\n",
    "    delta = np.log(Pi) + np.log(B[i][x[1]])\n",
    "    phi = -1\n",
    "    delta"
   ]
  }
 ],
 "metadata": {
  "kernelspec": {
   "display_name": "Python 3",
   "language": "python",
   "name": "python3"
  },
  "language_info": {
   "codemirror_mode": {
    "name": "ipython",
    "version": 3
   },
   "file_extension": ".py",
   "mimetype": "text/x-python",
   "name": "python",
   "nbconvert_exporter": "python",
   "pygments_lexer": "ipython3",
   "version": "3.6.3"
  }
 },
 "nbformat": 4,
 "nbformat_minor": 2
}
